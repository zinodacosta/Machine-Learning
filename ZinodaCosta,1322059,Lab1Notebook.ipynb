{
 "cells": [
  {
   "attachments": {},
   "cell_type": "markdown",
   "metadata": {},
   "source": [
    "#Hello World\n"
   ]
  },
  {
   "cell_type": "code",
   "execution_count": 2,
   "metadata": {},
   "outputs": [
    {
     "name": "stdout",
     "output_type": "stream",
     "text": [
      "Hello World\n"
     ]
    }
   ],
   "source": [
    "print(\"Hello World\")"
   ]
  },
  {
   "attachments": {},
   "cell_type": "markdown",
   "metadata": {},
   "source": [
    "#Mean Median"
   ]
  },
  {
   "cell_type": "code",
   "execution_count": 3,
   "metadata": {},
   "outputs": [
    {
     "name": "stdout",
     "output_type": "stream",
     "text": [
      "mean :  93.4\n",
      "median :  87.0\n"
     ]
    }
   ],
   "source": [
    "import numpy as np\n",
    "\n",
    "array = [99,86,87,88,111,86,103,87,94,78,77,85,86, 122, 112]\n",
    "\n",
    "mean = np.mean(array)   #calc mean from array\n",
    "median = np.median(array)   #calc median from array\n",
    "\n",
    "print(\"mean : \", mean)\n",
    "print(\"median : \", median)"
   ]
  },
  {
   "attachments": {},
   "cell_type": "markdown",
   "metadata": {},
   "source": [
    "#Mean and Median from CSV File\n"
   ]
  },
  {
   "cell_type": "code",
   "execution_count": 4,
   "metadata": {},
   "outputs": [
    {
     "name": "stdout",
     "output_type": "stream",
     "text": [
      "mean :  value    93.4\n",
      "dtype: float64\n",
      "median :  87.0\n"
     ]
    },
    {
     "name": "stderr",
     "output_type": "stream",
     "text": [
      "d:\\Users\\Zino\\anaconda\\lib\\site-packages\\numpy\\core\\fromnumeric.py:3438: FutureWarning: In a future version, DataFrame.mean(axis=None) will return a scalar mean over the entire DataFrame. To retain the old behavior, use 'frame.mean(axis=0)' or just 'frame.mean()'\n",
      "  return mean(axis=axis, dtype=dtype, out=out, **kwargs)\n"
     ]
    }
   ],
   "source": [
    "import pandas as pd\n",
    "import numpy as np\n",
    "\n",
    "excelfile = pd.read_csv(r'mean.csv') #read from csv mean.csv\n",
    "\n",
    "mean = np.mean(excelfile)\n",
    "median = np.median(excelfile)\n",
    "\n",
    "print(\"mean : \", mean)\n",
    "print(\"median : \", median)"
   ]
  },
  {
   "attachments": {},
   "cell_type": "markdown",
   "metadata": {},
   "source": [
    "#Histogram\n"
   ]
  },
  {
   "cell_type": "code",
   "execution_count": 1,
   "metadata": {},
   "outputs": [
    {
     "data": {
      "text/plain": [
       "Text(0.5, 0, 'Range')"
      ]
     },
     "execution_count": 1,
     "metadata": {},
     "output_type": "execute_result"
    },
    {
     "data": {
      "image/png": "[encoded data removed]",
      "text/plain": [
       "<Figure size 432x288 with 1 Axes>"
      ]
     },
     "metadata": {
      "needs_background": "light"
     },
     "output_type": "display_data"
    }
   ],
   "source": [
    "import numpy as np\n",
    "import matplotlib.pyplot as mp\n",
    "\n",
    "\n",
    "ran_array = np.random.uniform(low = 0, high = 7, size = 500) #create a random array containing 500 float numbers with random numbers inbetween 1 and 7\n",
    "\n",
    "mp.hist(ran_array,bins = 100) #bins = width of range\n",
    "mp.ylabel(\"Probability\")\n",
    "mp.xlabel(\"Range\")"
   ]
  },
  {
   "attachments": {},
   "cell_type": "markdown",
   "metadata": {},
   "source": [
    "#Linear Regression"
   ]
  },
  {
   "cell_type": "code",
   "execution_count": 6,
   "metadata": {},
   "outputs": [
    {
     "name": "stdout",
     "output_type": "stream",
     "text": [
      "[94.3495217071376, 90.84694628403237, 89.09565857247976, 90.84694628403237, 99.60338484179543, 73.33406916850626, 99.60338484179543, 87.34437086092716, 96.1008094186902, 83.84179543782193, 82.09050772626932, 87.34437086092716, 92.59823399558499]\n"
     ]
    },
    {
     "data": {
      "image/png": "[encoded data removed]",
      "text/plain": [
       "<Figure size 432x288 with 1 Axes>"
      ]
     },
     "metadata": {
      "needs_background": "light"
     },
     "output_type": "display_data"
    }
   ],
   "source": [
    "import pandas as pd\n",
    "import numpy as np\n",
    "import matplotlib.pyplot as mp\n",
    "from scipy import stats\n",
    "\n",
    "excelfile = pd.read_csv(r'regression.csv') #read from csv regression.csv\n",
    "\n",
    "features = excelfile[\"rfn1\"]    #define axis name of function\n",
    "labels = excelfile[\"rfn2\"]\n",
    "\n",
    "slope, intercept, r, p, std_err = stats.linregress(features, labels) #methods to return values of linear regression\n",
    "\n",
    "def plotting(x):        #function to return corresponding place on the y-axis to the x-axis for values of slope and intercept\n",
    "    return slope * x + intercept\n",
    "\n",
    "func = list(map(plotting, features)) #each value of the array will be used\n",
    "print(func)\n",
    "\n",
    "mp.scatter(features, labels)    #original scatter plot\n",
    "mp.plot(features, func)     #line of linear regression\n",
    "mp.show()   #display the diagram\n"
   ]
  }
 ],
 "metadata": {
  "kernelspec": {
   "display_name": "base",
   "language": "python",
   "name": "python3"
  },
  "language_info": {
   "codemirror_mode": {
    "name": "ipython",
    "version": 3
   },
   "file_extension": ".py",
   "mimetype": "text/x-python",
   "name": "python",
   "nbconvert_exporter": "python",
   "pygments_lexer": "ipython3",
   "version": "3.9.12"
  },
  "orig_nbformat": 4
 },
 "nbformat": 4,
 "nbformat_minor": 2
}
